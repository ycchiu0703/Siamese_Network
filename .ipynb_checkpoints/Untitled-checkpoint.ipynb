{
 "cells": [
  {
   "cell_type": "code",
   "execution_count": null,
   "id": "fa945671",
   "metadata": {},
   "outputs": [],
   "source": [
    "import pandas as pd\n",
    "import numpy as np\n",
    "from sklearn import ensemble, preprocessing, metrics\n",
    "from sklearn.metrics import f1_score\n",
    "from joblib import dump,load\n",
    "from sklearn import model_selection\n",
    "from sklearn.metrics import accuracy_score, precision_recall_fscore_support\n",
    "from sklearn.metrics import recall_score, precision_score\n",
    "import networkx as nx\n",
    "import os\n",
    "import ast\n",
    "import copy"
   ]
  },
  {
   "cell_type": "code",
   "execution_count": null,
   "id": "ed76fb3e",
   "metadata": {},
   "outputs": [],
   "source": [
    "dataset = pd.read_csv(r'./Labels_TimeSyscallSeqs.csv')\n",
    "# print(len(dataset[4][1]))\n"
   ]
  },
  {
   "cell_type": "code",
   "execution_count": null,
   "id": "e31b39bb",
   "metadata": {},
   "outputs": [],
   "source": [
    "dataset"
   ]
  },
  {
   "cell_type": "code",
   "execution_count": null,
   "id": "7c4e7bf4",
   "metadata": {},
   "outputs": [],
   "source": [
    "# new_dataset = []\n",
    "# cnt_mirai = 0\n",
    "# cnt_unknown = 0\n",
    "# drop_fam = ['metasploit','zbot','skeeyah','hiddad']\n",
    "# drop_index = []\n",
    "# dataset = dataset.drop(['CLASS', 'BEH'], axis=1)\n",
    "# for i in range(len(dataset)):\n",
    "#     if dataset['FAM'][i] == 'mirai':\n",
    "#         if cnt_mirai > 50:\n",
    "#             drop_index.append(i)\n",
    "#         else:\n",
    "#             cnt_mirai += 1\n",
    "#     elif dataset['FAM'][i] == 'unknown':\n",
    "#         if cnt_unknown > 50 :\n",
    "#             drop_index.append(i)\n",
    "#         else :\n",
    "#             cnt_unknown += 1\n",
    "#     elif dataset['FAM'][i] in drop_fam:\n",
    "#         drop_index.append(i)\n",
    "# dataset = dataset.drop(drop_index)"
   ]
  },
  {
   "cell_type": "code",
   "execution_count": null,
   "id": "a643c1c7",
   "metadata": {},
   "outputs": [],
   "source": [
    "new_dataset = []\n",
    "cnt_mirai = 0\n",
    "cnt_unknown = 0\n",
    "drop_fam = ['metasploit','zbot','skeeyah','hiddad']\n",
    "drop_index = []\n",
    "dataset = dataset.drop(['CLASS', 'BEH'], axis=1)\n",
    "for i in range(len(dataset)):\n",
    "    # if dataset['FAM'][i] == 'mirai':\n",
    "    #     if cnt_mirai > 50:\n",
    "    #         drop_index.append(i)\n",
    "    #     else:\n",
    "    #         cnt_mirai += 1\n",
    "    # elif dataset['FAM'][i] == 'unknown':\n",
    "    #     if cnt_unknown > 50 :\n",
    "    #         drop_index.append(i)\n",
    "    #     else :\n",
    "    #         cnt_unknown += 1\n",
    "    if dataset['FAM'][i] in drop_fam:\n",
    "        drop_index.append(i)\n",
    "dataset = dataset.drop(drop_index)"
   ]
  },
  {
   "cell_type": "code",
   "execution_count": null,
   "id": "caa79cfe",
   "metadata": {},
   "outputs": [],
   "source": [
    "dataset = dataset.reset_index(drop = True)"
   ]
  },
  {
   "cell_type": "code",
   "execution_count": null,
   "id": "9333ffd5",
   "metadata": {},
   "outputs": [],
   "source": [
    "y = np.array(dataset[\"FAM\"])"
   ]
  },
  {
   "cell_type": "code",
   "execution_count": null,
   "id": "7d08d57f",
   "metadata": {},
   "outputs": [],
   "source": [
    "syscall_list = []\n",
    "\n",
    "for i in range(len(dataset)):\n",
    "    tmp_syscall = []\n",
    "    tmp = str(dataset[\"SEQUENCE\"][i])\n",
    "    tmp = tmp.replace('-','0')\n",
    "    # print(i)\n",
    "    tmp_seq = ast.literal_eval(tmp)\n",
    "    end_t = float(tmp_seq[len(tmp_seq) - 1][0])\n",
    "    start_t = float(tmp_seq[0][0])\n",
    "\n",
    "    for j in range(len(tmp_seq)):\n",
    "        try:\n",
    "            time = float(tmp_seq[j][0])\n",
    "            time -= start_t\n",
    "            tmp_syscall.append([time,tmp_seq[j][1]])\n",
    "        except:\n",
    "            pass\n",
    "    syscall_list.append(tmp_syscall)"
   ]
  },
  {
   "cell_type": "code",
   "execution_count": null,
   "id": "9e41f5fe",
   "metadata": {},
   "outputs": [],
   "source": [
    "syscallCategory = {\n",
    "    'kernel' : ['rt_sigaction', 'uname', 'setgid', 'getpriority', 'time', 'clone', 'restart_syscall', 'sysinfo', 'prlimit64', 'geteuid', 'kill', 'umask', 'getppid', 'set_robust_list', 'setresuid', 'nanosleep', 'rt_sigprocmask', 'prctl', 'times', 'mmap', 'setsid', 'vfork', 'wait4', 'getuid', 'gettid', 'set_tid_address', 'fork', 'rt_sigsuspend', 'setpriority', 'ptrace', 'get_thread_area', 'exit', 'alarm', 'setpgid', 'setresgid', 'set_thread_area', 'sigaltstack', 'getrlimit', 'getpid', 'futex', 'setrlimit', 'getegid', 'tgkill', 'setuid', 'exit_group', 'clock_gettime', 'getgid', 'rt_sigtimedwait', 'setitimer', 'getpgrp', 'gettimeofday','mmap2','ni_syscall','sigreturn','waitpid'],\n",
    "\n",
    "    'fs' : ['stat', 'lseek', 'readlinkat', 'chroot', 'sendfile', 'umount2', 'symlink', 'flock', 'dup2', 'getcwd', 'chdir', 'fstat', 'mount', 'rmdir', 'execve', 'mkdir', 'epoll_wait', 'openat', 'eventfd2', 'readv', 'rename', 'epoll_create1', 'fchmod', 'pipe', 'unlink', 'pipe2', 'fcntl', 'open', 'read', 'write', 'lstat', 'chmod', 'readlink', 'getdents64', 'utimes', 'ioctl', 'select', 'access', 'close', 'poll', 'getdents', 'epoll_ctl', 'ftruncate','_llseek','_newselect','fcntl64','fstat64','llseek','lstat64','renameat2','stat64'],\n",
    "\n",
    "    'net' : ['accept', 'connect', 'sendto', 'shutdown', 'getsockname', 'getpeername', 'listen', 'socketpair', 'socket', 'setsockopt', 'getsockopt', 'recvfrom', 'recvmsg', 'bind','recv','send','sendfile64','socketcall'],\n",
    "\n",
    "    'mm' : ['mprotect', 'brk', 'munmap', 'madvise'],\n",
    "\n",
    "    'ipc' : ['shmdt', 'shmget'],\n",
    "\n",
    "    'printk' : ['syslog'],\n",
    "\n",
    "    'sched' : ['sched_getaffinity'],\n",
    "    \n",
    "    'HighFreq' : ['_newselect','close','connect','fcntl','get_thread_area','getsockopt','open','read','recv','recvfrom','rt_sigaction','rt_sigprocmask','sendto','socket','time'],\n",
    "\n",
    "    'other' : [ 'getegid32','geteuid32','getgid32','getuid32','setgid32','setresuid32','setuid32','sysctl','ugetrlimit']\n",
    "}"
   ]
  },
  {
   "cell_type": "code",
   "execution_count": null,
   "id": "465842c5",
   "metadata": {},
   "outputs": [],
   "source": [
    "fam = {\n",
    "    'kernel':0,\n",
    "    'fs':1,\n",
    "    'net':2,\n",
    "    'mm':3,\n",
    "    'ipc':4,\n",
    "    'printk':5,\n",
    "    'sched':6,\n",
    "    'HighFreq':7,\n",
    "    'other':8\n",
    "}"
   ]
  },
  {
   "cell_type": "code",
   "execution_count": null,
   "id": "f0368c84",
   "metadata": {},
   "outputs": [],
   "source": [
    "def get_key(target):\n",
    "    return_key = []\n",
    "    for key,value in syscallCategory.items():\n",
    "        if target in value:\n",
    "            return_key.append(key)\n",
    "            # return key\n",
    "    if len(return_key) > 0:\n",
    "        return return_key\n",
    "    else:\n",
    "        return ['other']"
   ]
  },
  {
   "cell_type": "code",
   "execution_count": null,
   "id": "cf160a07",
   "metadata": {},
   "outputs": [],
   "source": [
    "column, row = 16, 9\n",
    "\n",
    "imgs = []\n",
    "\n",
    "# print(step)\n",
    "for i in range(len(syscall_list)):\n",
    "    time_step = np.linspace(0.0,float(syscall_list[i][-1][0]),num=17)\n",
    "    time_step = time_step[1:]\n",
    "    k = 0\n",
    "    step = [[0 for _ in range(row)] for _ in range(column)]\n",
    "    # print(time_step)\n",
    "    for j in range(len(syscall_list[i])):\n",
    "        if syscall_list[i][j][0] <= time_step[k]:\n",
    "            syscall_fam = get_key(syscall_list[i][j][1])\n",
    "            for h in syscall_fam:\n",
    "                step[k][fam[h]] += 1\n",
    "        else:\n",
    "            k += 1\n",
    "            syscall_fam = get_key(syscall_list[i][j][1])\n",
    "            for h in syscall_fam:\n",
    "                step[k][fam[h]] += 1                        \n",
    "    imgs.append(step)\n",
    "    # print(\"*\"*20)\n",
    "    # print(step)\n",
    "    # print(len(syscall_list[i]))\n",
    "    \n",
    "# print(step)\n",
    "# print(step.sum())\n"
   ]
  },
  {
   "cell_type": "code",
   "execution_count": null,
   "id": "c79fecef",
   "metadata": {},
   "outputs": [],
   "source": [
    "imgs = np.array(imgs)"
   ]
  },
  {
   "cell_type": "code",
   "execution_count": null,
   "id": "9b874ef9",
   "metadata": {},
   "outputs": [],
   "source": [
    "imgs.shape"
   ]
  },
  {
   "cell_type": "code",
   "execution_count": null,
   "id": "1922f6c9",
   "metadata": {},
   "outputs": [],
   "source": [
    "np.save(\"./img_data_all.npy\",imgs)\n",
    "np.save(\"./img_label_all.npy\",y)"
   ]
  },
  {
   "cell_type": "code",
   "execution_count": null,
   "id": "dc0e520f",
   "metadata": {},
   "outputs": [],
   "source": [
    "_y = np.load('./ML_security/img_label.npy',allow_pickle=True)\n",
    "print(_y.shape)"
   ]
  },
  {
   "cell_type": "code",
   "execution_count": null,
   "id": "f22373e6",
   "metadata": {},
   "outputs": [],
   "source": [
    "d = {}\n",
    "for i, fam in enumerate(dataset['FAM']):\n",
    "    if not fam in d:\n",
    "        d[fam] = 1\n",
    "    else :\n",
    "        d[fam] += 1\n",
    "print(d)"
   ]
  },
  {
   "cell_type": "code",
   "execution_count": null,
   "id": "818d12b8",
   "metadata": {},
   "outputs": [],
   "source": [
    "# 確定class種類\n",
    "class_num = 0\n",
    "for i in d.keys():\n",
    "    if d[i] > 5:\n",
    "        print(i,\" : \",d[i])\n",
    "        class_num += 1\n",
    "print(\"*\"*20)\n",
    "print(\"class num : \",class_num)"
   ]
  },
  {
   "cell_type": "code",
   "execution_count": null,
   "id": "b63836c9",
   "metadata": {},
   "outputs": [],
   "source": [
    "'kernel' : ['rt_sigaction', 'uname', 'setgid', 'getpriority', 'time', 'clone', 'restart_syscall', 'sysinfo', 'prlimit64', 'geteuid', 'kill', 'umask', 'getppid', 'set_robust_list', 'setresuid', 'nanosleep', 'rt_sigprocmask', 'prctl', 'times', 'mmap', 'setsid', 'vfork', 'wait4', 'getuid', 'gettid', 'set_tid_address', 'fork', 'rt_sigsuspend', 'setpriority', 'ptrace', 'get_thread_area', 'exit', 'alarm', 'setpgid', 'setresgid', 'set_thread_area', 'sigaltstack', 'getrlimit', 'getpid', 'futex', 'setrlimit', 'getegid', 'tgkill', 'setuid', 'exit_group', 'clock_gettime', 'getgid', 'rt_sigtimedwait', 'setitimer', 'getpgrp', 'gettimeofday','mmap2','ni_syscall','sigreturn','waitpid'],"
   ]
  },
  {
   "cell_type": "code",
   "execution_count": null,
   "id": "1589b50b",
   "metadata": {},
   "outputs": [],
   "source": [
    "'kernel_signal' : ['rt_sigaction', 'restart_syscall','kill', 'rt_sigprocmask','rt_sigsuspend','sigaltstack','tgkill','rt_sigtimedwait','sigreturn']\n",
    "'kernel_sys' : ['uname', 'setgid', 'getpriority', 'sysinfo', 'prlimit64','geteuid','umask', 'getppid', 'setresuid','prctl', 'times','mmap','setsid','getuid', 'gettid', 'setpriority','setpgid', 'setresgid','getrlimit','getpid','setrlimit','getegid','setuid','getgid','getpgrp','mmap2',''ni_syscall'']\n",
    "'kernel_time' : ['time','gettimeofday']\n",
    "'kernel_timer' :['alarm']\n",
    "'kernel_fork' : ['clone','vfork','set_tid_address', 'fork']\n",
    "'kernel_futex' : ['set_robust_list','futex']\n",
    "'kernel_hrtimer': ['nanosleep']\n",
    "'kernel_exit' : ['wait4','exit','exit_group','waitpid']\n",
    "'kernel_ptrace': ['ptrace']\n",
    "'kernel_tls':['get_thread_area','set_thread_area']\n",
    "'kernel_posix-timers' : ['clock_gettime']\n",
    "'kernel_itimer' : ['setitimer']"
   ]
  }
 ],
 "metadata": {
  "kernelspec": {
   "display_name": "ENV_NAME",
   "language": "python",
   "name": "env_name"
  },
  "language_info": {
   "codemirror_mode": {
    "name": "ipython",
    "version": 3
   },
   "file_extension": ".py",
   "mimetype": "text/x-python",
   "name": "python",
   "nbconvert_exporter": "python",
   "pygments_lexer": "ipython3",
   "version": "3.6.13"
  }
 },
 "nbformat": 4,
 "nbformat_minor": 5
}
