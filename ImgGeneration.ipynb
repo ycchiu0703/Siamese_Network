{
 "cells": [
  {
   "cell_type": "code",
   "execution_count": 1,
   "id": "fa945671",
   "metadata": {},
   "outputs": [],
   "source": [
    "import pandas as pd\n",
    "import numpy as np\n",
    "from sklearn import ensemble, preprocessing, metrics\n",
    "from sklearn.metrics import f1_score\n",
    "from joblib import dump,load\n",
    "from sklearn import model_selection\n",
    "from sklearn.metrics import accuracy_score, precision_recall_fscore_support\n",
    "from sklearn.metrics import recall_score, precision_score\n",
    "import networkx as nx\n",
    "import os\n",
    "import ast\n",
    "import copy\n",
    "import csv"
   ]
  },
  {
   "cell_type": "code",
   "execution_count": 3,
   "id": "ed76fb3e",
   "metadata": {},
   "outputs": [],
   "source": [
    "dataset = pd.read_csv(r'./Labels_TimeSyscallSeqs.csv')\n",
    "# print(len(dataset[4][1]))\n"
   ]
  },
  {
   "cell_type": "code",
   "execution_count": 4,
   "id": "e31b39bb",
   "metadata": {},
   "outputs": [
    {
     "data": {
      "text/html": [
       "<div>\n",
       "<style scoped>\n",
       "    .dataframe tbody tr th:only-of-type {\n",
       "        vertical-align: middle;\n",
       "    }\n",
       "\n",
       "    .dataframe tbody tr th {\n",
       "        vertical-align: top;\n",
       "    }\n",
       "\n",
       "    .dataframe thead th {\n",
       "        text-align: right;\n",
       "    }\n",
       "</style>\n",
       "<table border=\"1\" class=\"dataframe\">\n",
       "  <thead>\n",
       "    <tr style=\"text-align: right;\">\n",
       "      <th></th>\n",
       "      <th>FILENAME</th>\n",
       "      <th>CLASS</th>\n",
       "      <th>BEH</th>\n",
       "      <th>FAM</th>\n",
       "      <th>SEQUENCE</th>\n",
       "    </tr>\n",
       "  </thead>\n",
       "  <tbody>\n",
       "    <tr>\n",
       "      <th>0</th>\n",
       "      <td>ca970cc75ccdf7bd1959b970de1f81d682ea3af871aff6...</td>\n",
       "      <td>backdoor</td>\n",
       "      <td>server</td>\n",
       "      <td>mirai</td>\n",
       "      <td>[('1659223215.715424', 'execve'), ('1659223215...</td>\n",
       "    </tr>\n",
       "    <tr>\n",
       "      <th>1</th>\n",
       "      <td>699ffec8df22106524defd950bff835735051514a9b059...</td>\n",
       "      <td>unknown</td>\n",
       "      <td>unknown</td>\n",
       "      <td>mirai</td>\n",
       "      <td>[('1662079445.156731', 'execve'), ('1662079445...</td>\n",
       "    </tr>\n",
       "    <tr>\n",
       "      <th>2</th>\n",
       "      <td>94e883f37be5e6a2791b081e78c86804b427e90e55a172...</td>\n",
       "      <td>backdoor</td>\n",
       "      <td>server</td>\n",
       "      <td>mirai</td>\n",
       "      <td>[('946684902.916742', 'execve'), ('946684903.7...</td>\n",
       "    </tr>\n",
       "    <tr>\n",
       "      <th>3</th>\n",
       "      <td>6b8490cc0ea6b234de8b6529b9277ee0ccba22026b4689...</td>\n",
       "      <td>backdoor</td>\n",
       "      <td>ddos</td>\n",
       "      <td>unknown</td>\n",
       "      <td>[('1970.5854504280915968', 'wait4'), ('1970.62...</td>\n",
       "    </tr>\n",
       "    <tr>\n",
       "      <th>4</th>\n",
       "      <td>93a9669eea9b49258a1c4ca20b261561b6bd91b43643ad...</td>\n",
       "      <td>backdoor</td>\n",
       "      <td>ddos</td>\n",
       "      <td>mirai</td>\n",
       "      <td>[('1970.-1293549660274688', 'read'), ('1970.-1...</td>\n",
       "    </tr>\n",
       "    <tr>\n",
       "      <th>...</th>\n",
       "      <td>...</td>\n",
       "      <td>...</td>\n",
       "      <td>...</td>\n",
       "      <td>...</td>\n",
       "      <td>...</td>\n",
       "    </tr>\n",
       "    <tr>\n",
       "      <th>29216</th>\n",
       "      <td>0d3c90bbe475fff13feab71a0fa354b370816293e76bd1...</td>\n",
       "      <td>backdoor</td>\n",
       "      <td>server</td>\n",
       "      <td>mirai</td>\n",
       "      <td>[('946684980.350152', 'execve'), ('946684981.6...</td>\n",
       "    </tr>\n",
       "    <tr>\n",
       "      <th>29217</th>\n",
       "      <td>44dae951b8795d619aa703ec45d9ca2a9163bcfbc7e0e8...</td>\n",
       "      <td>unknown</td>\n",
       "      <td>unknown</td>\n",
       "      <td>mirai</td>\n",
       "      <td>[('1661739044.775424', 'execve'), ('1661739044...</td>\n",
       "    </tr>\n",
       "    <tr>\n",
       "      <th>29218</th>\n",
       "      <td>31cf4befa49497a5195671d5e9c861730599817d3a6c99...</td>\n",
       "      <td>backdoor</td>\n",
       "      <td>server</td>\n",
       "      <td>unknown</td>\n",
       "      <td>[('1661842757.198039', 'execve'), ('1661842757...</td>\n",
       "    </tr>\n",
       "    <tr>\n",
       "      <th>29219</th>\n",
       "      <td>4859747535ff9088e328535a667c54b42bee132678d492...</td>\n",
       "      <td>backdoor</td>\n",
       "      <td>ddos</td>\n",
       "      <td>mirai</td>\n",
       "      <td>[('1660561355.452809', 'execve'), ('1660561355...</td>\n",
       "    </tr>\n",
       "    <tr>\n",
       "      <th>29220</th>\n",
       "      <td>72916d1ceb12537b9cb15b4de8fddc8621b7ce168fb1a6...</td>\n",
       "      <td>backdoor</td>\n",
       "      <td>ddos</td>\n",
       "      <td>mirai</td>\n",
       "      <td>[('1662706786.176404', 'execve'), ('1662706786...</td>\n",
       "    </tr>\n",
       "  </tbody>\n",
       "</table>\n",
       "<p>29221 rows × 5 columns</p>\n",
       "</div>"
      ],
      "text/plain": [
       "                                                FILENAME     CLASS      BEH  \\\n",
       "0      ca970cc75ccdf7bd1959b970de1f81d682ea3af871aff6...  backdoor   server   \n",
       "1      699ffec8df22106524defd950bff835735051514a9b059...   unknown  unknown   \n",
       "2      94e883f37be5e6a2791b081e78c86804b427e90e55a172...  backdoor   server   \n",
       "3      6b8490cc0ea6b234de8b6529b9277ee0ccba22026b4689...  backdoor     ddos   \n",
       "4      93a9669eea9b49258a1c4ca20b261561b6bd91b43643ad...  backdoor     ddos   \n",
       "...                                                  ...       ...      ...   \n",
       "29216  0d3c90bbe475fff13feab71a0fa354b370816293e76bd1...  backdoor   server   \n",
       "29217  44dae951b8795d619aa703ec45d9ca2a9163bcfbc7e0e8...   unknown  unknown   \n",
       "29218  31cf4befa49497a5195671d5e9c861730599817d3a6c99...  backdoor   server   \n",
       "29219  4859747535ff9088e328535a667c54b42bee132678d492...  backdoor     ddos   \n",
       "29220  72916d1ceb12537b9cb15b4de8fddc8621b7ce168fb1a6...  backdoor     ddos   \n",
       "\n",
       "           FAM                                           SEQUENCE  \n",
       "0        mirai  [('1659223215.715424', 'execve'), ('1659223215...  \n",
       "1        mirai  [('1662079445.156731', 'execve'), ('1662079445...  \n",
       "2        mirai  [('946684902.916742', 'execve'), ('946684903.7...  \n",
       "3      unknown  [('1970.5854504280915968', 'wait4'), ('1970.62...  \n",
       "4        mirai  [('1970.-1293549660274688', 'read'), ('1970.-1...  \n",
       "...        ...                                                ...  \n",
       "29216    mirai  [('946684980.350152', 'execve'), ('946684981.6...  \n",
       "29217    mirai  [('1661739044.775424', 'execve'), ('1661739044...  \n",
       "29218  unknown  [('1661842757.198039', 'execve'), ('1661842757...  \n",
       "29219    mirai  [('1660561355.452809', 'execve'), ('1660561355...  \n",
       "29220    mirai  [('1662706786.176404', 'execve'), ('1662706786...  \n",
       "\n",
       "[29221 rows x 5 columns]"
      ]
     },
     "execution_count": 4,
     "metadata": {},
     "output_type": "execute_result"
    }
   ],
   "source": [
    "dataset"
   ]
  },
  {
   "cell_type": "code",
   "execution_count": 5,
   "id": "7c4e7bf4",
   "metadata": {},
   "outputs": [],
   "source": [
    "# new_dataset = []\n",
    "# cnt_mirai = 0\n",
    "# cnt_unknown = 0\n",
    "# drop_fam = ['metasploit','zbot','skeeyah','hiddad']\n",
    "# drop_index = []\n",
    "# dataset = dataset.drop(['CLASS', 'BEH'], axis=1)\n",
    "# for i in range(len(dataset)):\n",
    "#     if dataset['FAM'][i] == 'mirai':\n",
    "#         if cnt_mirai > 50:\n",
    "#             drop_index.append(i)\n",
    "#         else:\n",
    "#             cnt_mirai += 1\n",
    "#     elif dataset['FAM'][i] == 'unknown':\n",
    "#         if cnt_unknown > 50 :\n",
    "#             drop_index.append(i)\n",
    "#         else :\n",
    "#             cnt_unknown += 1\n",
    "#     elif dataset['FAM'][i] in drop_fam:\n",
    "#         drop_index.append(i)\n",
    "# dataset = dataset.drop(drop_index)"
   ]
  },
  {
   "cell_type": "code",
   "execution_count": 6,
   "id": "a643c1c7",
   "metadata": {},
   "outputs": [],
   "source": [
    "new_dataset = []\n",
    "cnt_mirai = 0\n",
    "cnt_unknown = 0\n",
    "drop_fam = ['metasploit','zbot','skeeyah','hiddad']\n",
    "drop_index = []\n",
    "dataset = dataset.drop(['CLASS', 'BEH'], axis=1)\n",
    "for i in range(len(dataset)):\n",
    "    # if dataset['FAM'][i] == 'mirai':\n",
    "    #     if cnt_mirai > 50:\n",
    "    #         drop_index.append(i)\n",
    "    #     else:\n",
    "    #         cnt_mirai += 1\n",
    "    # elif dataset['FAM'][i] == 'unknown':\n",
    "    #     if cnt_unknown > 50 :\n",
    "    #         drop_index.append(i)\n",
    "    #     else :\n",
    "    #         cnt_unknown += 1\n",
    "    if dataset['FAM'][i] in drop_fam:\n",
    "        drop_index.append(i)\n",
    "dataset = dataset.drop(drop_index)"
   ]
  },
  {
   "cell_type": "code",
   "execution_count": 7,
   "id": "caa79cfe",
   "metadata": {},
   "outputs": [],
   "source": [
    "dataset = dataset.reset_index(drop = True)"
   ]
  },
  {
   "cell_type": "code",
   "execution_count": 8,
   "id": "9333ffd5",
   "metadata": {},
   "outputs": [],
   "source": [
    "y = np.array(dataset[\"FAM\"])"
   ]
  },
  {
   "cell_type": "code",
   "execution_count": 9,
   "id": "7d08d57f",
   "metadata": {},
   "outputs": [],
   "source": [
    "syscall_list = []\n",
    "\n",
    "for i in range(len(dataset)):\n",
    "    tmp_syscall = []\n",
    "    tmp = str(dataset[\"SEQUENCE\"][i])\n",
    "    tmp = tmp.replace('-','0')\n",
    "    # print(i)\n",
    "    tmp_seq = ast.literal_eval(tmp)\n",
    "    end_t = float(tmp_seq[len(tmp_seq) - 1][0])\n",
    "    start_t = float(tmp_seq[0][0])\n",
    "\n",
    "    for j in range(len(tmp_seq)):\n",
    "        try:\n",
    "            time = float(tmp_seq[j][0])\n",
    "            time -= start_t\n",
    "            tmp_syscall.append([time,tmp_seq[j][1]])\n",
    "        except:\n",
    "            pass\n",
    "    syscall_list.append(tmp_syscall)"
   ]
  },
  {
   "cell_type": "code",
   "execution_count": 10,
   "id": "9e41f5fe",
   "metadata": {},
   "outputs": [],
   "source": [
    "syscallCategory = {\n",
    "    'kernel' : ['rt_sigaction', 'uname', 'setgid', 'getpriority', 'time', 'clone', 'restart_syscall', 'sysinfo', 'prlimit64', 'geteuid', 'kill', 'umask', 'getppid', 'set_robust_list', 'setresuid', 'nanosleep', 'rt_sigprocmask', 'prctl', 'times', 'mmap', 'setsid', 'vfork', 'wait4', 'getuid', 'gettid', 'set_tid_address', 'fork', 'rt_sigsuspend', 'setpriority', 'ptrace', 'get_thread_area', 'exit', 'alarm', 'setpgid', 'setresgid', 'set_thread_area', 'sigaltstack', 'getrlimit', 'getpid', 'futex', 'setrlimit', 'getegid', 'tgkill', 'setuid', 'exit_group', 'clock_gettime', 'getgid', 'rt_sigtimedwait', 'setitimer', 'getpgrp', 'gettimeofday','mmap2','ni_syscall','sigreturn','waitpid'],\n",
    "\n",
    "    'fs' : ['stat', 'lseek', 'readlinkat', 'chroot', 'sendfile', 'umount2', 'symlink', 'flock', 'dup2', 'getcwd', 'chdir', 'fstat', 'mount', 'rmdir', 'execve', 'mkdir', 'epoll_wait', 'openat', 'eventfd2', 'readv', 'rename', 'epoll_create1', 'fchmod', 'pipe', 'unlink', 'pipe2', 'fcntl', 'open', 'read', 'write', 'lstat', 'chmod', 'readlink', 'getdents64', 'utimes', 'ioctl', 'select', 'access', 'close', 'poll', 'getdents', 'epoll_ctl', 'ftruncate','_llseek','_newselect','fcntl64','fstat64','llseek','lstat64','renameat2','stat64'],\n",
    "\n",
    "    'net' : ['accept', 'connect', 'sendto', 'shutdown', 'getsockname', 'getpeername', 'listen', 'socketpair', 'socket', 'setsockopt', 'getsockopt', 'recvfrom', 'recvmsg', 'bind','recv','send','sendfile64','socketcall'],\n",
    "\n",
    "    'mm' : ['mprotect', 'brk', 'munmap', 'madvise'],\n",
    "\n",
    "    'ipc' : ['shmdt', 'shmget'],\n",
    "\n",
    "    'printk' : ['syslog'],\n",
    "\n",
    "    'sched' : ['sched_getaffinity'],\n",
    "    \n",
    "    'HighFreq' : ['_newselect','close','connect','fcntl','get_thread_area','getsockopt','open','read','recv','recvfrom','rt_sigaction','rt_sigprocmask','sendto','socket','time'],\n",
    "\n",
    "    'other' : [ 'getegid32','geteuid32','getgid32','getuid32','setgid32','setresuid32','setuid32','sysctl','ugetrlimit']\n",
    "}"
   ]
  },
  {
   "cell_type": "code",
   "execution_count": 11,
   "id": "465842c5",
   "metadata": {},
   "outputs": [],
   "source": [
    "fam = {\n",
    "    'kernel':0,\n",
    "    'fs':1,\n",
    "    'net':2,\n",
    "    'mm':3,\n",
    "    'ipc':4,\n",
    "    'printk':5,\n",
    "    'sched':6,\n",
    "    'HighFreq':7,\n",
    "    'other':8\n",
    "}"
   ]
  },
  {
   "cell_type": "code",
   "execution_count": 12,
   "id": "f0368c84",
   "metadata": {},
   "outputs": [],
   "source": [
    "def get_key(target):\n",
    "    return_key = []\n",
    "    for key,value in syscallCategory.items():\n",
    "        if target in value:\n",
    "            return_key.append(key)\n",
    "            # return key\n",
    "    if len(return_key) > 0:\n",
    "        return return_key\n",
    "    else:\n",
    "        return ['other']"
   ]
  },
  {
   "cell_type": "code",
   "execution_count": 13,
   "id": "cf160a07",
   "metadata": {},
   "outputs": [],
   "source": [
    "column, row = 16, 9\n",
    "\n",
    "imgs = []\n",
    "\n",
    "# print(step)\n",
    "for i in range(len(syscall_list)):\n",
    "    time_step = np.linspace(0.0,float(syscall_list[i][-1][0]),num=17)\n",
    "    time_step = time_step[1:]\n",
    "    k = 0\n",
    "    step = [[0 for _ in range(row)] for _ in range(column)]\n",
    "    # print(time_step)\n",
    "    for j in range(len(syscall_list[i])):\n",
    "        if syscall_list[i][j][0] <= time_step[k]:\n",
    "            syscall_fam = get_key(syscall_list[i][j][1])\n",
    "            for h in syscall_fam:\n",
    "                step[k][fam[h]] += 1\n",
    "        else:\n",
    "            k += 1\n",
    "            syscall_fam = get_key(syscall_list[i][j][1])\n",
    "            for h in syscall_fam:\n",
    "                step[k][fam[h]] += 1                        \n",
    "    imgs.append(step)\n",
    "    # print(\"*\"*20)\n",
    "    # print(step)\n",
    "    # print(len(syscall_list[i]))\n",
    "    \n",
    "# print(step)\n",
    "# print(step.sum())\n"
   ]
  },
  {
   "cell_type": "code",
   "execution_count": 14,
   "id": "c79fecef",
   "metadata": {},
   "outputs": [],
   "source": [
    "imgs = np.array(imgs)"
   ]
  },
  {
   "cell_type": "code",
   "execution_count": 15,
   "id": "9b874ef9",
   "metadata": {},
   "outputs": [
    {
     "data": {
      "text/plain": [
       "(29213, 16, 9)"
      ]
     },
     "execution_count": 15,
     "metadata": {},
     "output_type": "execute_result"
    }
   ],
   "source": [
    "imgs.shape"
   ]
  },
  {
   "cell_type": "code",
   "execution_count": 16,
   "id": "1922f6c9",
   "metadata": {},
   "outputs": [],
   "source": [
    "np.save(\"./img_data_all.npy\",imgs)\n",
    "np.save(\"./img_label_all.npy\",y)"
   ]
  },
  {
   "cell_type": "code",
   "execution_count": 17,
   "id": "dc0e520f",
   "metadata": {},
   "outputs": [
    {
     "ename": "FileNotFoundError",
     "evalue": "[Errno 2] No such file or directory: './ML_security/img_label.npy'",
     "output_type": "error",
     "traceback": [
      "\u001b[0;31m---------------------------------------------------------------------------\u001b[0m",
      "\u001b[0;31mFileNotFoundError\u001b[0m                         Traceback (most recent call last)",
      "\u001b[0;32m/tmp/ipykernel_129993/2027299509.py\u001b[0m in \u001b[0;36m<module>\u001b[0;34m\u001b[0m\n\u001b[0;32m----> 1\u001b[0;31m \u001b[0m_y\u001b[0m \u001b[0;34m=\u001b[0m \u001b[0mnp\u001b[0m\u001b[0;34m.\u001b[0m\u001b[0mload\u001b[0m\u001b[0;34m(\u001b[0m\u001b[0;34m'./ML_security/img_label.npy'\u001b[0m\u001b[0;34m,\u001b[0m\u001b[0mallow_pickle\u001b[0m\u001b[0;34m=\u001b[0m\u001b[0;32mTrue\u001b[0m\u001b[0;34m)\u001b[0m\u001b[0;34m\u001b[0m\u001b[0;34m\u001b[0m\u001b[0m\n\u001b[0m\u001b[1;32m      2\u001b[0m \u001b[0mprint\u001b[0m\u001b[0;34m(\u001b[0m\u001b[0m_y\u001b[0m\u001b[0;34m.\u001b[0m\u001b[0mshape\u001b[0m\u001b[0;34m)\u001b[0m\u001b[0;34m\u001b[0m\u001b[0;34m\u001b[0m\u001b[0m\n",
      "\u001b[0;32m~/anaconda3/lib/python3.9/site-packages/numpy/lib/npyio.py\u001b[0m in \u001b[0;36mload\u001b[0;34m(file, mmap_mode, allow_pickle, fix_imports, encoding)\u001b[0m\n\u001b[1;32m    415\u001b[0m             \u001b[0mown_fid\u001b[0m \u001b[0;34m=\u001b[0m \u001b[0;32mFalse\u001b[0m\u001b[0;34m\u001b[0m\u001b[0;34m\u001b[0m\u001b[0m\n\u001b[1;32m    416\u001b[0m         \u001b[0;32melse\u001b[0m\u001b[0;34m:\u001b[0m\u001b[0;34m\u001b[0m\u001b[0;34m\u001b[0m\u001b[0m\n\u001b[0;32m--> 417\u001b[0;31m             \u001b[0mfid\u001b[0m \u001b[0;34m=\u001b[0m \u001b[0mstack\u001b[0m\u001b[0;34m.\u001b[0m\u001b[0menter_context\u001b[0m\u001b[0;34m(\u001b[0m\u001b[0mopen\u001b[0m\u001b[0;34m(\u001b[0m\u001b[0mos_fspath\u001b[0m\u001b[0;34m(\u001b[0m\u001b[0mfile\u001b[0m\u001b[0;34m)\u001b[0m\u001b[0;34m,\u001b[0m \u001b[0;34m\"rb\"\u001b[0m\u001b[0;34m)\u001b[0m\u001b[0;34m)\u001b[0m\u001b[0;34m\u001b[0m\u001b[0;34m\u001b[0m\u001b[0m\n\u001b[0m\u001b[1;32m    418\u001b[0m             \u001b[0mown_fid\u001b[0m \u001b[0;34m=\u001b[0m \u001b[0;32mTrue\u001b[0m\u001b[0;34m\u001b[0m\u001b[0;34m\u001b[0m\u001b[0m\n\u001b[1;32m    419\u001b[0m \u001b[0;34m\u001b[0m\u001b[0m\n",
      "\u001b[0;31mFileNotFoundError\u001b[0m: [Errno 2] No such file or directory: './ML_security/img_label.npy'"
     ]
    }
   ],
   "source": [
    "_y = np.load('./ML_security/img_label.npy',allow_pickle=True)\n",
    "print(_y.shape)"
   ]
  },
  {
   "cell_type": "code",
   "execution_count": null,
   "id": "f22373e6",
   "metadata": {},
   "outputs": [],
   "source": [
    "d = {}\n",
    "for i, fam in enumerate(dataset['FAM']):\n",
    "    if not fam in d:\n",
    "        d[fam] = 1\n",
    "    else :\n",
    "        d[fam] += 1\n",
    "print(d)"
   ]
  },
  {
   "cell_type": "code",
   "execution_count": null,
   "id": "818d12b8",
   "metadata": {},
   "outputs": [],
   "source": [
    "# 確定class種類\n",
    "class_num = 0\n",
    "for i in d.keys():\n",
    "    if d[i] > 5:\n",
    "        print(i,\" : \",d[i])\n",
    "        class_num += 1\n",
    "print(\"*\"*20)\n",
    "print(\"class num : \",class_num)"
   ]
  },
  {
   "cell_type": "code",
   "execution_count": null,
   "id": "b63836c9",
   "metadata": {},
   "outputs": [],
   "source": [
    "'kernel' : ['rt_sigaction', 'uname', 'setgid', 'getpriority', 'time', 'clone', 'restart_syscall', 'sysinfo', 'prlimit64', 'geteuid', 'kill', 'umask', 'getppid', 'set_robust_list', 'setresuid', 'nanosleep', 'rt_sigprocmask', 'prctl', 'times', 'mmap', 'setsid', 'vfork', 'wait4', 'getuid', 'gettid', 'set_tid_address', 'fork', 'rt_sigsuspend', 'setpriority', 'ptrace', 'get_thread_area', 'exit', 'alarm', 'setpgid', 'setresgid', 'set_thread_area', 'sigaltstack', 'getrlimit', 'getpid', 'futex', 'setrlimit', 'getegid', 'tgkill', 'setuid', 'exit_group', 'clock_gettime', 'getgid', 'rt_sigtimedwait', 'setitimer', 'getpgrp', 'gettimeofday','mmap2','ni_syscall','sigreturn','waitpid'],"
   ]
  },
  {
   "cell_type": "code",
   "execution_count": null,
   "id": "1589b50b",
   "metadata": {},
   "outputs": [],
   "source": [
    "'kernel_signal' : ['rt_sigaction', 'restart_syscall','kill', 'rt_sigprocmask','rt_sigsuspend','sigaltstack','tgkill','rt_sigtimedwait','sigreturn']\n",
    "'kernel_sys' : ['uname', 'setgid', 'getpriority', 'sysinfo', 'prlimit64','geteuid','umask', 'getppid', 'setresuid','prctl', 'times','mmap','setsid','getuid', 'gettid', 'setpriority','setpgid', 'setresgid','getrlimit','getpid','setrlimit','getegid','setuid','getgid','getpgrp','mmap2',''ni_syscall'']\n",
    "'kernel_time' : ['time','gettimeofday']\n",
    "'kernel_timer' :['alarm']\n",
    "'kernel_fork' : ['clone','vfork','set_tid_address', 'fork']\n",
    "'kernel_futex' : ['set_robust_list','futex']\n",
    "'kernel_hrtimer': ['nanosleep']\n",
    "'kernel_exit' : ['wait4','exit','exit_group','waitpid']\n",
    "'kernel_ptrace': ['ptrace']\n",
    "'kernel_tls':['get_thread_area','set_thread_area']\n",
    "'kernel_posix-timers' : ['clock_gettime']\n",
    "'kernel_itimer' : ['setitimer']"
   ]
  }
 ],
 "metadata": {
  "kernelspec": {
   "display_name": "ycc1",
   "language": "python",
   "name": "ycc1"
  },
  "language_info": {
   "codemirror_mode": {
    "name": "ipython",
    "version": 3
   },
   "file_extension": ".py",
   "mimetype": "text/x-python",
   "name": "python",
   "nbconvert_exporter": "python",
   "pygments_lexer": "ipython3",
   "version": "3.8.15"
  }
 },
 "nbformat": 4,
 "nbformat_minor": 5
}
