{
 "cells": [
  {
   "cell_type": "code",
   "execution_count": 1,
   "id": "fa945671",
   "metadata": {},
   "outputs": [],
   "source": [
    "import pandas as pd\n",
    "import numpy as np\n",
    "import ast"
   ]
  },
  {
   "cell_type": "code",
   "execution_count": 22,
   "id": "ed76fb3e",
   "metadata": {},
   "outputs": [],
   "source": [
    "dataset = pd.read_csv(r'/mnt/bigDisk/weiren/Labels_TimeSyscallSeqs.csv')\n"
   ]
  },
  {
   "cell_type": "code",
   "execution_count": 35,
   "id": "e31b39bb",
   "metadata": {},
   "outputs": [
    {
     "name": "stdout",
     "output_type": "stream",
     "text": [
      "mirai  :  20475\n",
      "unknown  :  8621\n",
      "penguin  :  10\n",
      "fakebank  :  47\n",
      "fakeinst  :  21\n",
      "mobidash  :  12\n",
      "berbew  :  13\n",
      "wroba  :  14\n",
      "metasploit  :  5\n",
      "zbot  :  1\n",
      "skeeyah  :  1\n",
      "hiddad  :  1\n"
     ]
    }
   ],
   "source": [
    "count = dict()\n",
    "for i in dataset['FAM']:\n",
    "    if i in count.keys():\n",
    "        count[i] += 1\n",
    "    else:\n",
    "        count[i] = 1\n",
    "for i in count.keys():\n",
    "    print(i,\" : \",count[i])\n",
    "\n"
   ]
  },
  {
   "cell_type": "code",
   "execution_count": 4,
   "id": "7c4e7bf4",
   "metadata": {},
   "outputs": [],
   "source": [
    "new_dataset = []\n",
    "cnt_mirai = 0\n",
    "cnt_unknown = 0\n",
    "drop_fam = ['metasploit','zbot','skeeyah','hiddad']\n",
    "drop_index = []\n",
    "dataset = dataset.drop(['CLASS', 'BEH'], axis=1)\n",
    "for i in range(len(dataset)):\n",
    "    if dataset['FAM'][i] == 'mirai':\n",
    "        if cnt_mirai > 50:\n",
    "            drop_index.append(i)\n",
    "        else:\n",
    "            cnt_mirai += 1\n",
    "    elif dataset['FAM'][i] == 'unknown':\n",
    "        if cnt_unknown > 50 :\n",
    "            drop_index.append(i)\n",
    "        else :\n",
    "            cnt_unknown += 1\n",
    "    elif dataset['FAM'][i] in drop_fam:\n",
    "        drop_index.append(i)\n",
    "dataset = dataset.drop(drop_index)"
   ]
  },
  {
   "cell_type": "code",
   "execution_count": 5,
   "id": "d21c5d52",
   "metadata": {},
   "outputs": [
    {
     "data": {
      "text/html": [
       "<div>\n",
       "<style scoped>\n",
       "    .dataframe tbody tr th:only-of-type {\n",
       "        vertical-align: middle;\n",
       "    }\n",
       "\n",
       "    .dataframe tbody tr th {\n",
       "        vertical-align: top;\n",
       "    }\n",
       "\n",
       "    .dataframe thead th {\n",
       "        text-align: right;\n",
       "    }\n",
       "</style>\n",
       "<table border=\"1\" class=\"dataframe\">\n",
       "  <thead>\n",
       "    <tr style=\"text-align: right;\">\n",
       "      <th></th>\n",
       "      <th>FILENAME</th>\n",
       "      <th>FAM</th>\n",
       "      <th>SEQUENCE</th>\n",
       "    </tr>\n",
       "  </thead>\n",
       "  <tbody>\n",
       "    <tr>\n",
       "      <th>0</th>\n",
       "      <td>ca970cc75ccdf7bd1959b970de1f81d682ea3af871aff6...</td>\n",
       "      <td>mirai</td>\n",
       "      <td>[('1659223215.715424', 'execve'), ('1659223215...</td>\n",
       "    </tr>\n",
       "    <tr>\n",
       "      <th>1</th>\n",
       "      <td>699ffec8df22106524defd950bff835735051514a9b059...</td>\n",
       "      <td>mirai</td>\n",
       "      <td>[('1662079445.156731', 'execve'), ('1662079445...</td>\n",
       "    </tr>\n",
       "    <tr>\n",
       "      <th>2</th>\n",
       "      <td>94e883f37be5e6a2791b081e78c86804b427e90e55a172...</td>\n",
       "      <td>mirai</td>\n",
       "      <td>[('946684902.916742', 'execve'), ('946684903.7...</td>\n",
       "    </tr>\n",
       "    <tr>\n",
       "      <th>3</th>\n",
       "      <td>6b8490cc0ea6b234de8b6529b9277ee0ccba22026b4689...</td>\n",
       "      <td>unknown</td>\n",
       "      <td>[('1970.5854504280915968', 'wait4'), ('1970.62...</td>\n",
       "    </tr>\n",
       "    <tr>\n",
       "      <th>4</th>\n",
       "      <td>93a9669eea9b49258a1c4ca20b261561b6bd91b43643ad...</td>\n",
       "      <td>mirai</td>\n",
       "      <td>[('1970.-1293549660274688', 'read'), ('1970.-1...</td>\n",
       "    </tr>\n",
       "    <tr>\n",
       "      <th>...</th>\n",
       "      <td>...</td>\n",
       "      <td>...</td>\n",
       "      <td>...</td>\n",
       "    </tr>\n",
       "    <tr>\n",
       "      <th>27571</th>\n",
       "      <td>1baa017387e838d5cdf4e4cf3bbec00b593eb26a728536...</td>\n",
       "      <td>berbew</td>\n",
       "      <td>[('1970.-2811361037910016', 'write'), ('1970.-...</td>\n",
       "    </tr>\n",
       "    <tr>\n",
       "      <th>28136</th>\n",
       "      <td>86d7afdbc8ba2c20d95d48a350c46900d8d12186c8fea3...</td>\n",
       "      <td>mobidash</td>\n",
       "      <td>[('1970.000000', 'execve'), ('2022.001355', 'o...</td>\n",
       "    </tr>\n",
       "    <tr>\n",
       "      <th>28316</th>\n",
       "      <td>227f20d9a1f65144c9bd045ebcc38eac041ed56b7ba94b...</td>\n",
       "      <td>fakebank</td>\n",
       "      <td>[('1970.000000', 'execve'), ('2022.008254', 'e...</td>\n",
       "    </tr>\n",
       "    <tr>\n",
       "      <th>28636</th>\n",
       "      <td>3d243102bb07a0efe0a11d8ff3f9330d7161b29e151578...</td>\n",
       "      <td>fakebank</td>\n",
       "      <td>[('1970.000000', 'execve'), ('2022.002493', 'r...</td>\n",
       "    </tr>\n",
       "    <tr>\n",
       "      <th>28703</th>\n",
       "      <td>bbf462964b2a5c88711fd368f0866cc6a069c134ac3ddd...</td>\n",
       "      <td>fakeinst</td>\n",
       "      <td>[('1970.000000', 'execve'), ('2022.004739', 'g...</td>\n",
       "    </tr>\n",
       "  </tbody>\n",
       "</table>\n",
       "<p>219 rows × 3 columns</p>\n",
       "</div>"
      ],
      "text/plain": [
       "                                                FILENAME       FAM  \\\n",
       "0      ca970cc75ccdf7bd1959b970de1f81d682ea3af871aff6...     mirai   \n",
       "1      699ffec8df22106524defd950bff835735051514a9b059...     mirai   \n",
       "2      94e883f37be5e6a2791b081e78c86804b427e90e55a172...     mirai   \n",
       "3      6b8490cc0ea6b234de8b6529b9277ee0ccba22026b4689...   unknown   \n",
       "4      93a9669eea9b49258a1c4ca20b261561b6bd91b43643ad...     mirai   \n",
       "...                                                  ...       ...   \n",
       "27571  1baa017387e838d5cdf4e4cf3bbec00b593eb26a728536...    berbew   \n",
       "28136  86d7afdbc8ba2c20d95d48a350c46900d8d12186c8fea3...  mobidash   \n",
       "28316  227f20d9a1f65144c9bd045ebcc38eac041ed56b7ba94b...  fakebank   \n",
       "28636  3d243102bb07a0efe0a11d8ff3f9330d7161b29e151578...  fakebank   \n",
       "28703  bbf462964b2a5c88711fd368f0866cc6a069c134ac3ddd...  fakeinst   \n",
       "\n",
       "                                                SEQUENCE  \n",
       "0      [('1659223215.715424', 'execve'), ('1659223215...  \n",
       "1      [('1662079445.156731', 'execve'), ('1662079445...  \n",
       "2      [('946684902.916742', 'execve'), ('946684903.7...  \n",
       "3      [('1970.5854504280915968', 'wait4'), ('1970.62...  \n",
       "4      [('1970.-1293549660274688', 'read'), ('1970.-1...  \n",
       "...                                                  ...  \n",
       "27571  [('1970.-2811361037910016', 'write'), ('1970.-...  \n",
       "28136  [('1970.000000', 'execve'), ('2022.001355', 'o...  \n",
       "28316  [('1970.000000', 'execve'), ('2022.008254', 'e...  \n",
       "28636  [('1970.000000', 'execve'), ('2022.002493', 'r...  \n",
       "28703  [('1970.000000', 'execve'), ('2022.004739', 'g...  \n",
       "\n",
       "[219 rows x 3 columns]"
      ]
     },
     "execution_count": 5,
     "metadata": {},
     "output_type": "execute_result"
    }
   ],
   "source": [
    "dataset"
   ]
  },
  {
   "cell_type": "code",
   "execution_count": 6,
   "id": "a643c1c7",
   "metadata": {},
   "outputs": [],
   "source": [
    "# new_dataset = []\n",
    "# cnt_mirai = 0\n",
    "# cnt_unknown = 0\n",
    "# drop_fam = ['metasploit','zbot','skeeyah','hiddad']\n",
    "# drop_index = []\n",
    "# dataset = dataset.drop(['CLASS', 'BEH'], axis=1)\n",
    "# for i in range(len(dataset)):\n",
    "#     # if dataset['FAM'][i] == 'mirai':\n",
    "#     #     if cnt_mirai > 50:\n",
    "#     #         drop_index.append(i)\n",
    "#     #     else:\n",
    "#     #         cnt_mirai += 1\n",
    "#     # elif dataset['FAM'][i] == 'unknown':\n",
    "#     #     if cnt_unknown > 50 :\n",
    "#     #         drop_index.append(i)\n",
    "#     #     else :\n",
    "#     #         cnt_unknown += 1\n",
    "#     if dataset['FAM'][i] in drop_fam:\n",
    "#         drop_index.append(i)\n",
    "# dataset = dataset.drop(drop_index)"
   ]
  },
  {
   "cell_type": "code",
   "execution_count": 15,
   "id": "caa79cfe",
   "metadata": {},
   "outputs": [
    {
     "data": {
      "text/plain": [
       "\"[('1659223215.715424', 'execve'), ('1659223215.755751', 'rt_sigprocmask'), ('1659223215.768365', 'rt_sigaction'), ('1659223215.793790', 'rt_sigaction'), ('1659223215.804770', 'socket'), ('1659223215.818692', 'connect'), ('1659223215.820522', 'getsockname'), ('1659223215.839019', 'close'), ('1659223215.842809', 'brk'), ('1659223215.844117', 'brk'), ('1659223215.857712', 'time'), ('1659223215.860000\""
      ]
     },
     "execution_count": 15,
     "metadata": {},
     "output_type": "execute_result"
    }
   ],
   "source": [
    "dataset = dataset.reset_index(drop = True)\n",
    "dataset[\"SEQUENCE\"][0]"
   ]
  },
  {
   "cell_type": "code",
   "execution_count": 9,
   "id": "7d08d57f",
   "metadata": {},
   "outputs": [],
   "source": [
    "syscall_list = []\n",
    "\n",
    "for i in range(len(dataset)):\n",
    "    tmp_syscall = []\n",
    "    tmp = str(dataset[\"SEQUENCE\"][i])\n",
    "    tmp = tmp.replace('-','0')\n",
    "    # print(i)\n",
    "    tmp_seq = ast.literal_eval(tmp)\n",
    "    end_t = float(tmp_seq[len(tmp_seq) - 1][0])\n",
    "    start_t = float(tmp_seq[0][0])\n",
    "\n",
    "    for j in range(len(tmp_seq)):\n",
    "        try:\n",
    "            time = float(tmp_seq[j][0])\n",
    "            time -= start_t\n",
    "            tmp_syscall.append([time,tmp_seq[j][1]])\n",
    "        except:\n",
    "            pass\n",
    "    syscall_list.append(tmp_syscall)"
   ]
  },
  {
   "cell_type": "code",
   "execution_count": 17,
   "id": "9e41f5fe",
   "metadata": {},
   "outputs": [],
   "source": [
    "syscallCategory = {\n",
    "    'kernel_signal' : ['rt_sigaction', 'restart_syscall','kill', 'rt_sigprocmask','rt_sigsuspend','sigaltstack','tgkill','rt_sigtimedwait','sigreturn'],\n",
    "\n",
    "    'kernel_sys' : ['uname', 'setgid', 'getpriority', 'sysinfo', 'prlimit64','geteuid','umask', 'getppid', 'setresuid','prctl', 'times','mmap','setsid','getuid', 'gettid', 'setpriority','setpgid', 'setresgid','getrlimit','getpid','setrlimit','getegid','setuid','getgid','getpgrp','mmap2','ni_syscall'],\n",
    "\n",
    "    'kernel_others' : ['time','gettimeofday','alarm','clone','vfork','set_tid_address', 'fork','set_robust_list','futex','nanosleep','wait4','exit','exit_group','waitpid','ptrace','get_thread_area','set_thread_area','clock_gettime','setitimer'],\n",
    "\n",
    "    'fs' : ['stat', 'lseek', 'readlinkat', 'chroot', 'sendfile', 'umount2', 'symlink', 'flock', 'dup2', 'getcwd', 'chdir', 'fstat', 'mount', 'rmdir', 'execve', 'mkdir', 'epoll_wait', 'openat', 'eventfd2', 'readv', 'rename', 'epoll_create1', 'fchmod', 'pipe', 'unlink', 'pipe2', 'fcntl', 'open', 'read', 'write', 'lstat', 'chmod', 'readlink', 'getdents64', 'utimes', 'ioctl', 'select', 'access', 'close', 'poll', 'getdents', 'epoll_ctl', 'ftruncate','_llseek','_newselect','fcntl64','fstat64','llseek','lstat64','renameat2','stat64'],\n",
    "\n",
    "    'net' : ['accept', 'connect', 'sendto', 'shutdown', 'getsockname', 'getpeername', 'listen', 'socketpair', 'socket', 'setsockopt', 'getsockopt', 'recvfrom', 'recvmsg', 'bind','recv','send','sendfile64','socketcall'],\n",
    "\n",
    "    'mm' : ['mprotect', 'brk', 'munmap', 'madvise'],\n",
    "\n",
    "    'sched' : ['sched_getaffinity'],\n",
    "    \n",
    "    'HighFreq' : ['_newselect','close','connect','fcntl','get_thread_area','getsockopt','open','read','recv','recvfrom','rt_sigaction','rt_sigprocmask','sendto','socket','time'],\n",
    "\n",
    "    'others' : [ 'getegid32','geteuid32','getgid32','getuid32','setgid32','setresuid32','setuid32','sysctl','ugetrlimit','syslog', 'shmdt', 'shmget']\n",
    "}"
   ]
  },
  {
   "cell_type": "code",
   "execution_count": 11,
   "id": "465842c5",
   "metadata": {},
   "outputs": [],
   "source": [
    "fam = {\n",
    "    'kernel_signal':0,\n",
    "    'kernel_sys':1,\n",
    "    'kernel_others':2,\n",
    "    'fs':3,\n",
    "    'net':4,\n",
    "    'mm':5,\n",
    "    'sched':6,\n",
    "    'HighFreq':7,\n",
    "    'others':8\n",
    "}"
   ]
  },
  {
   "cell_type": "code",
   "execution_count": 12,
   "id": "f0368c84",
   "metadata": {},
   "outputs": [],
   "source": [
    "def get_key(target):\n",
    "    return_key = []\n",
    "    for key,value in syscallCategory.items():\n",
    "        if target in value:\n",
    "            return_key.append(key)\n",
    "            # return key\n",
    "    if len(return_key) > 0:\n",
    "        return return_key\n",
    "    else:\n",
    "        return ['others']"
   ]
  },
  {
   "cell_type": "code",
   "execution_count": 13,
   "id": "cf160a07",
   "metadata": {},
   "outputs": [],
   "source": [
    "t_step = 16\n",
    "column, row = t_step, len(syscallCategory)\n",
    "imgs = []\n",
    "\n",
    "for i in range(len(syscall_list)):\n",
    "    time_step = np.linspace(0.0,float(syscall_list[i][-1][0]),num = t_step + 1)\n",
    "    time_step = time_step[1:]\n",
    "    k = 0\n",
    "    step = [[0 for _ in range(row)] for _ in range(column)]\n",
    "    for j in range(len(syscall_list[i])):\n",
    "        if syscall_list[i][j][0] <= time_step[k]:\n",
    "            syscall_fam = get_key(syscall_list[i][j][1])\n",
    "            for h in syscall_fam:\n",
    "                step[k][fam[h]] += 1\n",
    "        else:\n",
    "            k += 1\n",
    "            syscall_fam = get_key(syscall_list[i][j][1])\n",
    "            for h in syscall_fam:\n",
    "                step[k][fam[h]] += 1                        \n",
    "    imgs.append(step)\n"
   ]
  },
  {
   "cell_type": "code",
   "execution_count": 16,
   "id": "1922f6c9",
   "metadata": {},
   "outputs": [],
   "source": [
    "y = np.array(dataset[\"FAM\"])\n",
    "imgs = np.array(imgs)\n",
    "np.save(\"./img_data_new.npy\",imgs)\n",
    "np.save(\"./img_label_new.npy\",y)"
   ]
  }
 ],
 "metadata": {
  "kernelspec": {
   "display_name": "ycc1",
   "language": "python",
   "name": "ycc1"
  },
  "language_info": {
   "codemirror_mode": {
    "name": "ipython",
    "version": 3
   },
   "file_extension": ".py",
   "mimetype": "text/x-python",
   "name": "python",
   "nbconvert_exporter": "python",
   "pygments_lexer": "ipython3",
   "version": "3.8.15"
  }
 },
 "nbformat": 4,
 "nbformat_minor": 5
}
